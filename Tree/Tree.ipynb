{
 "cells": [
  {
   "cell_type": "code",
   "execution_count": 1,
   "id": "6a0f5ff8",
   "metadata": {},
   "outputs": [
    {
     "name": "stdout",
     "output_type": "stream",
     "text": [
      " A=0\n",
      "  |__ B=10\n",
      "    |__ E=10\n",
      "    |__ F=20\n",
      "    |__ G=30\n",
      "  |__ C=40\n",
      "    |__ H=40\n",
      "    |__ I=50\n",
      "    |__ J=60\n",
      "  |__ D=70\n",
      "    |__ K=70\n",
      "    |__ L=80\n",
      "    |__ M=90\n"
     ]
    }
   ],
   "source": [
    "class Tree:\n",
    "    def __init__(self,data, values):\n",
    "        self.data     = data\n",
    "        self.value    = values\n",
    "        self.children = []\n",
    "        self.parent   = None\n",
    "        \n",
    "    def get_label(self):\n",
    "        level = 0\n",
    "        Parent = self.parent\n",
    "        while Parent:\n",
    "            level += 1\n",
    "            Parent = Parent.parent\n",
    "        \n",
    "        return level\n",
    "    \n",
    "    def print_tree(self):\n",
    "        spaces = ' '*self.get_label()*2\n",
    "        prefix = spaces + \"|__ \" if self.parent else ' '\n",
    "        print(prefix + self.data + '='+str(self.value))\n",
    "        if self.children:\n",
    "            for child in self.children:\n",
    "                child.print_tree()\n",
    "                \n",
    "    def add_child(self,child):\n",
    "        child.parent = self\n",
    "        self.children.append(child)\n",
    "        \n",
    "def build_product_tree(tree_data, Root):   \n",
    "    if Root in tree_data.keys():\n",
    "        # Pick the minimum value for the parent node from branches\n",
    "        Parent = Tree(Root, min(tree_data[Root].values()))\n",
    "        for child in tree_data[Root].keys():\n",
    "            Child = Tree(child,tree_data[Root][child])\n",
    "            if child in tree_data.keys():\n",
    "                Child = build_product_tree(tree_data,child)\n",
    "            Parent.add_child(Child)\n",
    "\n",
    "    #Parent.print_tree()\n",
    "    return Parent\n",
    "\n",
    "\n",
    "if __name__ == '__main__':\n",
    "    tree = {\n",
    "        'A': {'B':0,'C':0,'D':0},\n",
    "        'B': {'E':10,'F':20,'G':30},\n",
    "        'C': {'H':40,'I':50,'J':60},\n",
    "        'D': {'K':70,'L':80,'M':90}\n",
    "    }\n",
    "    T = build_product_tree(tree,'A')\n",
    "    T.print_tree()"
   ]
  },
  {
   "cell_type": "code",
   "execution_count": 2,
   "id": "dc1370d4",
   "metadata": {},
   "outputs": [
    {
     "name": "stdout",
     "output_type": "stream",
     "text": [
      " A=2\n",
      "  |__ B=7\n",
      "    |__ E=7\n",
      "    |__ F=9\n",
      "  |__ C=0\n",
      "    |__ G=0\n",
      "    |__ H=0\n",
      "    |__ I=0\n",
      "  |__ D=0\n",
      "    |__ J=0\n",
      "2\n",
      "9\n"
     ]
    }
   ],
   "source": [
    "H = {'A': -1, 'B': 5, 'C': 2, 'D': 4, 'E': 7, 'F': 9, 'G': 3, 'H': 0, 'I':0, 'J':0}\n",
    "\n",
    "if __name__ == '__main__':\n",
    "    tree = {\n",
    "        'A': {'B':5,'C':2,'D':4},\n",
    "        'B': {'E':7,'F':9},\n",
    "        'C': {'G':0,'H':0,'I':0},\n",
    "        'D': {'J':0}\n",
    "    }\n",
    "    \n",
    "    Conditions = {\n",
    "        'A': {'OR': ['B'], 'AND': ['C', 'D']},\n",
    "        'B': {'OR': ['E', 'F']},\n",
    "        'C': {'OR': ['G'], 'AND': ['H', 'I']},\n",
    "        'D': {'OR': ['J']}\n",
    "    }\n",
    "    #update_cost(tree, Conditions, weight=1)\n",
    "    T = build_product_tree(tree,'A')\n",
    "    T.print_tree()\n",
    "    print(T.value)\n",
    "    print(T.children[0].children[1].value)"
   ]
  },
  {
   "cell_type": "code",
   "execution_count": null,
   "id": "03efa4d5",
   "metadata": {},
   "outputs": [],
   "source": []
  }
 ],
 "metadata": {
  "kernelspec": {
   "display_name": "Python 3 (ipykernel)",
   "language": "python",
   "name": "python3"
  },
  "language_info": {
   "codemirror_mode": {
    "name": "ipython",
    "version": 3
   },
   "file_extension": ".py",
   "mimetype": "text/x-python",
   "name": "python",
   "nbconvert_exporter": "python",
   "pygments_lexer": "ipython3",
   "version": "3.10.5"
  }
 },
 "nbformat": 4,
 "nbformat_minor": 5
}
