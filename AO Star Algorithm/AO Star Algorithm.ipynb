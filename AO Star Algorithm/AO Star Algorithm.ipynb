{
 "cells": [
  {
   "cell_type": "code",
   "execution_count": 35,
   "id": "9b3ccb8b",
   "metadata": {},
   "outputs": [
    {
     "name": "stdout",
     "output_type": "stream",
     "text": [
      "Updated Cost :\n",
      "D : {'OR': ['J']} >>> {'J': 1}\n",
      "C : {'OR': ['G'], 'AND': ['H', 'I']} >>> {'H AND I': 2, 'G': 4}\n",
      "B : {'OR': ['E', 'F']} >>> {'E OR F': 8}\n",
      "A : {'OR': ['B'], 'AND': ['C', 'D']} >>> {'C AND D': 5, 'B': 9}\n",
      "***************************************************************************\n",
      "Shortest Path :\n",
      " A<--(C AND D) [C<--(H AND I) [H + I] + D<--J]\n"
     ]
    }
   ],
   "source": [
    "# Cost to find the AND and OR path\n",
    "def Cost(H, condition, weight = 1):\n",
    "    cost = {}\n",
    "    if 'AND' in condition:\n",
    "        AND_nodes = condition['AND']\n",
    "        Path_A = ' AND '.join(AND_nodes)\n",
    "        PathA = sum(H[node]+weight for node in AND_nodes)\n",
    "        cost[Path_A] = PathA\n",
    "\n",
    "    if 'OR' in condition:\n",
    "        OR_nodes = condition['OR']\n",
    "        Path_B =' OR '.join(OR_nodes)\n",
    "        PathB = min(H[node]+weight for node in OR_nodes)\n",
    "        cost[Path_B] = PathB\n",
    "    return cost\n",
    "\n",
    "# Update the cost\n",
    "def update_cost(H, Conditions, weight=1):\n",
    "    Main_nodes = list(Conditions.keys())\n",
    "    Main_nodes.reverse()\n",
    "    least_cost= {}\n",
    "    for key in Main_nodes:\n",
    "        condition = Conditions[key]\n",
    "        print(key,':', Conditions[key],'>>>', Cost(H, condition, weight))\n",
    "        c = Cost(H, condition, weight) \n",
    "        H[key] = min(c.values())\n",
    "        least_cost[key] = Cost(H, condition, weight)            \n",
    "    return least_cost\n",
    "\n",
    "# Print the shortest path\n",
    "def shortest_path(Start,Updated_cost, H):\n",
    "    Path = Start\n",
    "    if Start in Updated_cost.keys():\n",
    "        Min_cost = min(Updated_cost[Start].values())\n",
    "        key = list(Updated_cost[Start].keys())\n",
    "        values = list(Updated_cost[Start].values())\n",
    "        Index = values.index(Min_cost)\n",
    "        \n",
    "        # FIND MINIMIMUM PATH KEY\n",
    "        Next = key[Index].split()\n",
    "        # ADD TO PATH FOR OR PATH\n",
    "        if len(Next) == 1:\n",
    "\n",
    "            Start =Next[0]\n",
    "            Path += '<--' +shortest_path(Start, Updated_cost, H)\n",
    "        # ADD TO PATH FOR AND PATH\n",
    "        else:\n",
    "            Path +='<--('+key[Index]+') '\n",
    "\n",
    "            Start = Next[0]\n",
    "            Path += '[' +shortest_path(Start, Updated_cost, H) + ' + '\n",
    "\n",
    "            Start = Next[-1]\n",
    "            Path +=  shortest_path(Start, Updated_cost, H) + ']'\n",
    "\n",
    "    return Path\n",
    "        \n",
    "       \n",
    "\n",
    "H = {'A': -1, 'B': 5, 'C': 2, 'D': 4, 'E': 7, 'F': 9, 'G': 3, 'H': 0, 'I':0, 'J':0}\n",
    "\n",
    "Conditions = {\n",
    " 'A': {'OR': ['B'], 'AND': ['C', 'D']},\n",
    " 'B': {'OR': ['E', 'F']},\n",
    " 'C': {'OR': ['G'], 'AND': ['H', 'I']},\n",
    " 'D': {'OR': ['J']}\n",
    "}\n",
    "# weight\n",
    "weight = 1\n",
    "# Updated cost\n",
    "print('Updated Cost :')\n",
    "Updated_cost = update_cost(H, Conditions, weight=1)\n",
    "print('*'*75)\n",
    "print('Shortest Path :\\n',shortest_path('A', Updated_cost,H))"
   ]
  },
  {
   "cell_type": "code",
   "execution_count": 36,
   "id": "286a10c0",
   "metadata": {},
   "outputs": [
    {
     "name": "stdout",
     "output_type": "stream",
     "text": [
      "Updated Cost :\n",
      "D : {'AND': ['E', 'F']} >>> {'E AND F': 10}\n",
      "B : {'OR': ['G', 'H']} >>> {'G OR H': 5}\n",
      "A : {'OR': ['D'], 'AND': ['B', 'C']} >>> {'B AND C': 19, 'D': 11}\n",
      "***************************************************************************\n",
      "Shortest Path :\n",
      " A<--D<--(E AND F) [E + F]\n"
     ]
    }
   ],
   "source": [
    "Initial_cost = {'A': -1, 'B': 6, 'C': 12, 'D': 10, 'E': 4, 'F': 4, 'G': 5, 'H': 4}\n",
    "\n",
    "Conditions = {\n",
    " 'A': {'OR': ['D'], 'AND': ['B', 'C']},\n",
    " 'B': {'OR': ['G', 'H']},\n",
    " 'D': {'AND': ['E','F']}\n",
    "}\n",
    "\n",
    "# weight\n",
    "weight = 1\n",
    "# Updated cost\n",
    "print('Updated Cost :')\n",
    "Updated_cost = update_cost(Initial_cost, Conditions)\n",
    "print('*'*75)\n",
    "print('Shortest Path :\\n',shortest_path('A', Updated_cost, Initial_cost))"
   ]
  }
 ],
 "metadata": {
  "kernelspec": {
   "display_name": "Python 3 (ipykernel)",
   "language": "python",
   "name": "python3"
  },
  "language_info": {
   "codemirror_mode": {
    "name": "ipython",
    "version": 3
   },
   "file_extension": ".py",
   "mimetype": "text/x-python",
   "name": "python",
   "nbconvert_exporter": "python",
   "pygments_lexer": "ipython3",
   "version": "3.10.5"
  }
 },
 "nbformat": 4,
 "nbformat_minor": 5
}
